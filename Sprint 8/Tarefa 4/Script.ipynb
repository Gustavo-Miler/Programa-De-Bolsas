{
 "cells": [
  {
   "cell_type": "code",
   "execution_count": 2,
   "id": "81b4f93f",
   "metadata": {},
   "outputs": [
    {
     "name": "stdout",
     "output_type": "stream",
     "text": [
      "+----------------+\n",
      "|             _c0|\n",
      "+----------------+\n",
      "|  Frances Bennet|\n",
      "|   Jamie Russell|\n",
      "|  Edward Kistler|\n",
      "|   Sheila Maurer|\n",
      "|Donald Golightly|\n",
      "+----------------+\n",
      "only showing top 5 rows\n",
      "\n"
     ]
    }
   ],
   "source": [
    "from pyspark.sql import SparkSession\n",
    "from pyspark import SparkContext, SQLContext\n",
    "\n",
    "spark = SparkSession.builder.master(\"local[*]\").appName(\"Exercicio Intro\").getOrCreate()\n",
    "\n",
    "df_nomes = spark.read.csv(\"nomes_aleatorios.txt\")\n",
    "\n",
    "df_nomes.show(5)"
   ]
  },
  {
   "cell_type": "code",
   "execution_count": 3,
   "id": "25f5a18d",
   "metadata": {},
   "outputs": [
    {
     "name": "stdout",
     "output_type": "stream",
     "text": [
      "root\n",
      " |-- _c0: string (nullable = true)\n",
      "\n",
      "root\n",
      " |-- Nomes: string (nullable = true)\n",
      "\n",
      "+-----------------+\n",
      "|            Nomes|\n",
      "+-----------------+\n",
      "|   Frances Bennet|\n",
      "|    Jamie Russell|\n",
      "|   Edward Kistler|\n",
      "|    Sheila Maurer|\n",
      "| Donald Golightly|\n",
      "|       David Gray|\n",
      "|      Joy Bennett|\n",
      "|      Paul Kriese|\n",
      "|Berniece Ornellas|\n",
      "|    Brian Farrell|\n",
      "+-----------------+\n",
      "only showing top 10 rows\n",
      "\n"
     ]
    }
   ],
   "source": [
    "df_nomes.printSchema()\n",
    "df_nomes = df_nomes.withColumnRenamed(\"_c0\", \"Nomes\")\n",
    "df_nomes.printSchema()\n",
    "df_nomes.show(10)\n"
   ]
  },
  {
   "cell_type": "code",
   "execution_count": 4,
   "id": "a42079b9",
   "metadata": {},
   "outputs": [
    {
     "name": "stdout",
     "output_type": "stream",
     "text": [
      "+-----------------+------------+\n",
      "|            Nomes|Escolaridade|\n",
      "+-----------------+------------+\n",
      "|   Frances Bennet|    Superior|\n",
      "|    Jamie Russell|    Superior|\n",
      "|   Edward Kistler|    Superior|\n",
      "|    Sheila Maurer| Fundamental|\n",
      "| Donald Golightly|       Medio|\n",
      "|       David Gray|       Medio|\n",
      "|      Joy Bennett|    Superior|\n",
      "|      Paul Kriese|       Medio|\n",
      "|Berniece Ornellas|    Superior|\n",
      "|    Brian Farrell|    Superior|\n",
      "|   Kara Mcelwaine|    Superior|\n",
      "|    Tracy Herring|       Medio|\n",
      "|  Howard Lazarine|    Superior|\n",
      "|     Leroy Strahl| Fundamental|\n",
      "|     Ernest Hulet|       Medio|\n",
      "|     David Medina|       Medio|\n",
      "|   Lorenzo Woodis|    Superior|\n",
      "|      Page Marthe|    Superior|\n",
      "|   Herbert Morris|       Medio|\n",
      "|      Albert Leef|    Superior|\n",
      "+-----------------+------------+\n",
      "only showing top 20 rows\n",
      "\n"
     ]
    }
   ],
   "source": [
    "from pyspark.sql.functions import *\n",
    "\n",
    "escolaridades = ['Fundamental', 'Medio', 'Superior']\n",
    "\n",
    "df_nomes = df_nomes.withColumn(\"Escolaridade\", element_at(lit(escolaridades), \n",
    "                                                          (rand() * len(escolaridades) + 1).cast(\"int\")))\n",
    "df_nomes.show()"
   ]
  },
  {
   "cell_type": "code",
   "execution_count": 15,
   "id": "71845562",
   "metadata": {
    "scrolled": true
   },
   "outputs": [
    {
     "name": "stdout",
     "output_type": "stream",
     "text": [
      "+-----------------+------------+-------------+---------------+\n",
      "|            Nomes|Escolaridade|anoNascimento|           Pais|\n",
      "+-----------------+------------+-------------+---------------+\n",
      "|   Frances Bennet|    Superior|         1986|       Paraguai|\n",
      "|    Jamie Russell|    Superior|         1962|       Suriname|\n",
      "|   Edward Kistler|    Superior|         1978|        Equador|\n",
      "|    Sheila Maurer| Fundamental|         1980|        Uruguai|\n",
      "| Donald Golightly|       Medio|         1947|Guiana Francesa|\n",
      "|       David Gray|       Medio|         1956|          Chile|\n",
      "|      Joy Bennett|    Superior|         1995|       Paraguai|\n",
      "|      Paul Kriese|       Medio|         1996|         Brasil|\n",
      "|Berniece Ornellas|    Superior|         1972|      Venezuela|\n",
      "|    Brian Farrell|    Superior|         1950|          Chile|\n",
      "|   Kara Mcelwaine|    Superior|         1948|       Paraguai|\n",
      "|    Tracy Herring|       Medio|         1948|        Equador|\n",
      "|  Howard Lazarine|    Superior|         1982|       Paraguai|\n",
      "|     Leroy Strahl| Fundamental|         1965|          Chile|\n",
      "|     Ernest Hulet|       Medio|         1991|           Peru|\n",
      "|     David Medina|       Medio|         1968|Guiana Francesa|\n",
      "|   Lorenzo Woodis|    Superior|         1978|      Argentina|\n",
      "|      Page Marthe|    Superior|         2002|           Peru|\n",
      "|   Herbert Morris|       Medio|         1970|        Bolívia|\n",
      "|      Albert Leef|    Superior|         1948|       Paraguai|\n",
      "+-----------------+------------+-------------+---------------+\n",
      "only showing top 20 rows\n",
      "\n"
     ]
    }
   ],
   "source": [
    "paises = [\n",
    "    \"Argentina\", \"Bolívia\", \"Brasil\", \"Chile\", \"Colômbia\",\n",
    "    \"Equador\", \"Guiana\", \"Guiana Francesa\", \"Paraguai\", \"Peru\",\n",
    "    \"Suriname\", \"Uruguai\", \"Venezuela\"\n",
    "]\n",
    "\n",
    "df_nomes = df_nomes.withColumn(\"Pais\", element_at(lit(paises), (rand() * len(paises) + 1).cast(\"int\")))\n",
    "df_nomes.show()"
   ]
  },
  {
   "cell_type": "code",
   "execution_count": 5,
   "id": "dd6cca01",
   "metadata": {},
   "outputs": [
    {
     "name": "stdout",
     "output_type": "stream",
     "text": [
      "+-----------------+------------+-------------+\n",
      "|            Nomes|Escolaridade|anoNascimento|\n",
      "+-----------------+------------+-------------+\n",
      "|   Frances Bennet|    Superior|         1986|\n",
      "|    Jamie Russell|    Superior|         1962|\n",
      "|   Edward Kistler|    Superior|         1978|\n",
      "|    Sheila Maurer| Fundamental|         1980|\n",
      "| Donald Golightly|       Medio|         1947|\n",
      "|       David Gray|       Medio|         1956|\n",
      "|      Joy Bennett|    Superior|         1995|\n",
      "|      Paul Kriese|       Medio|         1996|\n",
      "|Berniece Ornellas|    Superior|         1972|\n",
      "|    Brian Farrell|    Superior|         1950|\n",
      "|   Kara Mcelwaine|    Superior|         1948|\n",
      "|    Tracy Herring|       Medio|         1948|\n",
      "|  Howard Lazarine|    Superior|         1982|\n",
      "|     Leroy Strahl| Fundamental|         1965|\n",
      "|     Ernest Hulet|       Medio|         1991|\n",
      "|     David Medina|       Medio|         1968|\n",
      "|   Lorenzo Woodis|    Superior|         1978|\n",
      "|      Page Marthe|    Superior|         2002|\n",
      "|   Herbert Morris|       Medio|         1970|\n",
      "|      Albert Leef|    Superior|         1948|\n",
      "+-----------------+------------+-------------+\n",
      "only showing top 20 rows\n",
      "\n"
     ]
    }
   ],
   "source": [
    "df_nomes = df_nomes.withColumn(\"anoNascimento\", (rand() * 65 + 1945).cast(\"int\"))\n",
    "df_nomes.show()"
   ]
  },
  {
   "cell_type": "code",
   "execution_count": 6,
   "id": "58612c37",
   "metadata": {},
   "outputs": [
    {
     "name": "stdout",
     "output_type": "stream",
     "text": [
      "+---------------+-------------+\n",
      "|          Nomes|anoNascimento|\n",
      "+---------------+-------------+\n",
      "|    Page Marthe|         2002|\n",
      "|   Charles Hill|         2004|\n",
      "|Jerry Chynoweth|         2007|\n",
      "|    Sandra Todd|         2002|\n",
      "|  Milton Dillon|         2002|\n",
      "|     Ned Tester|         2009|\n",
      "|  Lynne Dustman|         2003|\n",
      "|   Juliet Liles|         2001|\n",
      "|  Jenna Johnson|         2007|\n",
      "|   Ida Randazzo|         2003|\n",
      "+---------------+-------------+\n",
      "only showing top 10 rows\n",
      "\n"
     ]
    }
   ],
   "source": [
    "df_select = df_nomes.select(\"*\").where(col(\"anoNascimento\") > 2000)\n",
    "df_select.select(\"Nomes\", \"anoNascimento\").show(10)"
   ]
  },
  {
   "cell_type": "code",
   "execution_count": 8,
   "id": "b45cc5f4",
   "metadata": {},
   "outputs": [
    {
     "name": "stdout",
     "output_type": "stream",
     "text": [
      "+----------------+------------+-------------+\n",
      "|           Nomes|Escolaridade|anoNascimento|\n",
      "+----------------+------------+-------------+\n",
      "|     Page Marthe|    Superior|         2002|\n",
      "|    Charles Hill| Fundamental|         2004|\n",
      "| Jerry Chynoweth| Fundamental|         2007|\n",
      "|     Sandra Todd|    Superior|         2002|\n",
      "|   Milton Dillon|    Superior|         2002|\n",
      "|      Ned Tester|       Medio|         2009|\n",
      "|   Lynne Dustman|       Medio|         2003|\n",
      "|    Juliet Liles|    Superior|         2001|\n",
      "|   Jenna Johnson|    Superior|         2007|\n",
      "|    Ida Randazzo| Fundamental|         2003|\n",
      "|    Jerry Remick| Fundamental|         2002|\n",
      "| Suzanne Bullard|    Superior|         2003|\n",
      "|    Curtis Sutch|       Medio|         2007|\n",
      "| Pamela Banuelos| Fundamental|         2009|\n",
      "| Kenneth Rayburn|    Superior|         2006|\n",
      "|    Martha Brown|       Medio|         2003|\n",
      "| Christine Frank|    Superior|         2002|\n",
      "|Michael Anderson| Fundamental|         2006|\n",
      "|      Stacy Koch|       Medio|         2003|\n",
      "| Deborah Lizotte| Fundamental|         2005|\n",
      "+----------------+------------+-------------+\n",
      "only showing top 20 rows\n",
      "\n"
     ]
    }
   ],
   "source": [
    "df_nomes.createOrReplaceTempView(\"pessoas\")\n",
    "spark.sql(\"SELECT * FROM pessoas WHERE anoNascimento > 2000\").show()"
   ]
  },
  {
   "cell_type": "code",
   "execution_count": 13,
   "id": "dcfbc92d",
   "metadata": {},
   "outputs": [
    {
     "name": "stdout",
     "output_type": "stream",
     "text": [
      "+--------+\n",
      "|count(1)|\n",
      "+--------+\n",
      "| 2309538|\n",
      "+--------+\n",
      "\n"
     ]
    }
   ],
   "source": [
    "df_nomes.select(\"*\").where((col(\"anoNascimento\") >= 1980) & \n",
    "                           (col(\"anoNascimento\") <= 1994)).select(count(\"*\")).show()"
   ]
  },
  {
   "cell_type": "code",
   "execution_count": 9,
   "id": "d65beaa3",
   "metadata": {},
   "outputs": [
    {
     "name": "stdout",
     "output_type": "stream",
     "text": [
      "+--------+\n",
      "|count(1)|\n",
      "+--------+\n",
      "| 2308218|\n",
      "+--------+\n",
      "\n"
     ]
    }
   ],
   "source": [
    "df_nomes.createOrReplaceTempView(\"pessoas\")\n",
    "spark.sql(\"SELECT count(*) FROM pessoas WHERE anoNascimento >= 1980 AND anoNascimento <= 1994\").show()"
   ]
  },
  {
   "cell_type": "code",
   "execution_count": 16,
   "id": "df58fad7",
   "metadata": {},
   "outputs": [
    {
     "name": "stdout",
     "output_type": "stream",
     "text": [
      "+---------------+-----------+----------+\n",
      "|           Pais|    Geracao|Quantidade|\n",
      "+---------------+-----------+----------+\n",
      "|      Argentina|Baby Boomer|    237217|\n",
      "|      Argentina|  Geracao X|    177254|\n",
      "|      Argentina|  Geracao Z|    177596|\n",
      "|      Argentina|  Millenial|    177865|\n",
      "|        Bolívia|Baby Boomer|    236943|\n",
      "|        Bolívia|  Geracao X|    177094|\n",
      "|        Bolívia|  Geracao Z|    177403|\n",
      "|        Bolívia|  Millenial|    177687|\n",
      "|         Brasil|Baby Boomer|    236867|\n",
      "|         Brasil|  Geracao X|    177162|\n",
      "|         Brasil|  Geracao Z|    177046|\n",
      "|         Brasil|  Millenial|    177466|\n",
      "|          Chile|Baby Boomer|    237387|\n",
      "|          Chile|  Geracao X|    177579|\n",
      "|          Chile|  Geracao Z|    177658|\n",
      "|          Chile|  Millenial|    178066|\n",
      "|       Colômbia|Baby Boomer|    236452|\n",
      "|       Colômbia|  Geracao X|    177883|\n",
      "|       Colômbia|  Geracao Z|    177133|\n",
      "|       Colômbia|  Millenial|    177909|\n",
      "|        Equador|Baby Boomer|    235211|\n",
      "|        Equador|  Geracao X|    177272|\n",
      "|        Equador|  Geracao Z|    177326|\n",
      "|        Equador|  Millenial|    177440|\n",
      "|         Guiana|Baby Boomer|    236679|\n",
      "|         Guiana|  Geracao X|    176621|\n",
      "|         Guiana|  Geracao Z|    177361|\n",
      "|         Guiana|  Millenial|    178464|\n",
      "|Guiana Francesa|Baby Boomer|    237411|\n",
      "|Guiana Francesa|  Geracao X|    177477|\n",
      "|Guiana Francesa|  Geracao Z|    177559|\n",
      "|Guiana Francesa|  Millenial|    177256|\n",
      "|       Paraguai|Baby Boomer|    237015|\n",
      "|       Paraguai|  Geracao X|    177243|\n",
      "|       Paraguai|  Geracao Z|    177221|\n",
      "|       Paraguai|  Millenial|    177167|\n",
      "|           Peru|Baby Boomer|    236198|\n",
      "|           Peru|  Geracao X|    176791|\n",
      "|           Peru|  Geracao Z|    177300|\n",
      "|           Peru|  Millenial|    177625|\n",
      "|       Suriname|Baby Boomer|    236871|\n",
      "|       Suriname|  Geracao X|    178174|\n",
      "|       Suriname|  Geracao Z|    177289|\n",
      "|       Suriname|  Millenial|    177196|\n",
      "|        Uruguai|Baby Boomer|    236824|\n",
      "|        Uruguai|  Geracao X|    177042|\n",
      "|        Uruguai|  Geracao Z|    178383|\n",
      "|        Uruguai|  Millenial|    177579|\n",
      "|      Venezuela|Baby Boomer|    236698|\n",
      "|      Venezuela|  Geracao X|    177686|\n",
      "|      Venezuela|  Geracao Z|    178136|\n",
      "|      Venezuela|  Millenial|    177818|\n",
      "+---------------+-----------+----------+\n",
      "\n"
     ]
    }
   ],
   "source": [
    "df_nomes.createOrReplaceTempView(\"pessoas\")\n",
    "df_geracoes = spark.sql(\n",
    "    \"WITH tabela AS (\\\n",
    "        SELECT Nomes, Pais,\\\n",
    "        CASE\\\n",
    "            WHEN (anoNascimento >= 1944 AND anoNascimento <= 1964) THEN 'Baby Boomer'\\\n",
    "            WHEN (anoNascimento >= 1965 AND anoNascimento <= 1979) THEN 'Geracao X'\\\n",
    "            WHEN (anoNascimento >= 1980 AND anoNascimento <= 1994) THEN 'Millenial'\\\n",
    "            WHEN (anoNascimento >= 1995 AND anoNascimento <= 2015) THEN 'Geracao Z'\\\n",
    "            ELSE 'NULL'\\\n",
    "        END AS Geracao\\\n",
    "        FROM pessoas\\\n",
    "    )\\\n",
    "    SELECT Pais, Geracao, count(*) as Quantidade\\\n",
    "    FROM tabela\\\n",
    "    GROUP BY Geracao, Pais\"\n",
    ")\n",
    "df_geracoes.createOrReplaceTempView(\"geracoes\")\n",
    "spark.sql(\"SELECT * FROM geracoes ORDER BY Pais, Geracao\").show(52)"
   ]
  }
 ],
 "metadata": {
  "kernelspec": {
   "display_name": "Python 3 (ipykernel)",
   "language": "python",
   "name": "python3"
  },
  "language_info": {
   "codemirror_mode": {
    "name": "ipython",
    "version": 3
   },
   "file_extension": ".py",
   "mimetype": "text/x-python",
   "name": "python",
   "nbconvert_exporter": "python",
   "pygments_lexer": "ipython3",
   "version": "3.9.13"
  }
 },
 "nbformat": 4,
 "nbformat_minor": 5
}
