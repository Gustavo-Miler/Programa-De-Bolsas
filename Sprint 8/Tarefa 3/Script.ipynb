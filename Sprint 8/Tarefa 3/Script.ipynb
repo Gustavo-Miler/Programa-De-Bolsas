{
 "cells": [
  {
   "cell_type": "code",
   "execution_count": 17,
   "id": "b73ef7c2",
   "metadata": {},
   "outputs": [
    {
     "name": "stdout",
     "output_type": "stream",
     "text": [
      "[97, 56, 39, 66, 36, 80, 67, 81, 45, 79, 12, 56, 25, 5, 48, 39, 55, 71, 25, 12, 12, 98, 12, 76, 56, 22, 22, 25, 55, 84, 39, 18, 65, 85, 20, 5, 16, 22, 24, 75, 40, 93, 92, 69, 3, 34, 52, 69, 82, 10, 58, 47, 95, 22, 68, 77, 79, 3, 24, 29, 59, 75, 81, 44, 97, 43, 5, 30, 44, 48, 45, 11, 67, 18, 37, 70, 45, 34, 43, 25, 16, 17, 14, 52, 31, 80, 20, 45, 86, 54, 55, 18, 92, 21, 7, 80, 66, 14, 46, 69, 19, 42, 48, 40, 60, 78, 89, 79, 87, 13, 75, 96, 25, 77, 21, 66, 55, 48, 64, 97, 23, 97, 73, 71, 7, 63, 28, 70, 71, 27, 89, 15, 53, 14, 40, 13, 6, 31, 54, 39, 56, 87, 49, 85, 54, 69, 26, 87, 32, 51, 7, 57, 63, 75, 86, 61, 93, 57, 89, 35, 87, 3, 81, 56, 50, 54, 47, 18, 64, 61, 77, 74, 50, 21, 13, 57, 87, 70, 24, 6, 0, 13, 75, 95, 86, 64, 82, 13, 57, 14, 38, 1, 63, 37, 54, 50, 91, 72, 100, 32, 3, 63, 64, 26, 40, 97, 92, 85, 1, 96, 100, 78, 19, 91, 2, 33, 32, 82, 66, 9, 77, 0, 55, 69, 82, 76, 36, 48, 77, 53, 59, 26, 31, 98, 70, 69, 95, 98, 42, 14, 48, 48, 15, 22, 8, 2, 57, 70, 4, 9]\n"
     ]
    }
   ],
   "source": [
    "import random\n",
    "\n",
    "numeros_aleatorios = []\n",
    "for i in range(250):\n",
    "    numeros_aleatorios.append(random.randint(0, 100))\n",
    "\n",
    "numeros_aleatorios.reverse()\n",
    "print(numeros_aleatorios)"
   ]
  },
  {
   "cell_type": "code",
   "execution_count": 11,
   "id": "2dbc0d9b",
   "metadata": {},
   "outputs": [
    {
     "name": "stdout",
     "output_type": "stream",
     "text": [
      "Boi\n",
      "Bufalo\n",
      "Canguru\n",
      "Cavalo\n",
      "Cervo\n",
      "Cobra\n",
      "Doninha\n",
      "Galinha\n",
      "Gaviao\n",
      "Gorila\n",
      "Leao\n",
      "Lobo\n",
      "Lontra\n",
      "Macaco\n",
      "Pinguim\n",
      "Raposa\n",
      "Sabia\n",
      "Tatu\n",
      "Urso\n",
      "Vaca\n"
     ]
    }
   ],
   "source": [
    "animais = [\n",
    "    \"Cavalo\", \"Cervo\", \"Doninha\", \"Pinguim\", \"Galinha\",\n",
    "    \"Vaca\", \"Boi\", \"Cobra\", \"Bufalo\", \"Tatu\",\n",
    "    \"Canguru\", \"Sabia\", \"Macaco\", \"Gorila\", \"Leao\",\n",
    "    \"Lobo\", \"Lontra\", \"Urso\", \"Raposa\", \"Gaviao\"\n",
    "]\n",
    "\n",
    "animais.sort()\n",
    "for animal in animais:\n",
    "    print(animal)\n",
    "\n",
    "with open(\"animais.csv\", 'w') as f:\n",
    "    f.write(\"Animal\\n\")\n",
    "    for animal in animais:\n",
    "        f.write(animal + \"\\n\")"
   ]
  },
  {
   "cell_type": "code",
   "execution_count": 16,
   "id": "3635ecae",
   "metadata": {},
   "outputs": [
    {
     "name": "stdout",
     "output_type": "stream",
     "text": [
      "Gerando 10000000 nomes aleatórios\n"
     ]
    }
   ],
   "source": [
    "import random\n",
    "import time\n",
    "import os\n",
    "import names\n",
    "\n",
    "random.seed(40)\n",
    "qtd_nomes_unicos = 3000\n",
    "qtd_nomes_aleatorios = 10000000\n",
    "\n",
    "aux = []\n",
    "for i in range(qtd_nomes_unicos):\n",
    "    aux.append(names.get_full_name())\n",
    "\n",
    "print(f\"Gerando {qtd_nomes_aleatorios} nomes aleatórios\")\n",
    "\n",
    "dados = []\n",
    "for i in range(qtd_nomes_aleatorios):\n",
    "    dados.append(random.choice(aux))\n",
    "    \n",
    "with open(\"nomes_aleatorios.txt\", 'w') as f:\n",
    "    for nome in dados:\n",
    "        f.write(nome + \"\\n\")"
   ]
  }
 ],
 "metadata": {
  "kernelspec": {
   "display_name": "Python 3 (ipykernel)",
   "language": "python",
   "name": "python3"
  },
  "language_info": {
   "codemirror_mode": {
    "name": "ipython",
    "version": 3
   },
   "file_extension": ".py",
   "mimetype": "text/x-python",
   "name": "python",
   "nbconvert_exporter": "python",
   "pygments_lexer": "ipython3",
   "version": "3.9.13"
  }
 },
 "nbformat": 4,
 "nbformat_minor": 5
}
