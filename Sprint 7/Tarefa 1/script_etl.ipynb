{
 "cells": [
  {
   "cell_type": "code",
   "execution_count": 62,
   "id": "4424b624",
   "metadata": {},
   "outputs": [
    {
     "name": "stdout",
     "output_type": "stream",
     "text": [
      "Ator com maior número de filmes: Robert DeNiro\n",
      "Número de filmes: 79\n",
      "-----------------------------------------------\n",
      "Média de número de filmes: 37.88\n",
      "-----------------------------------------------\n",
      "Ator com maior média por filme: Anthony Daniels\n",
      "-----------------------------------------------\n",
      "O filme mais frequente é: The Avengers\n",
      "Sua frequência é: 0.12\n"
     ]
    }
   ],
   "source": [
    "import pandas as pd\n",
    "\n",
    "arq = pd.read_csv(\"./actors.csv\")\n",
    "\n",
    "# tarefa 1\n",
    "ID = arq['Number of Movies'].idxmax()\n",
    "print(f\"Ator com maior número de filmes: {arq['Actor'].loc[ID]}\\nNúmero de filmes: {arq['Number of Movies'].loc[ID]}\")\n",
    "print(\"-----------------------------------------------\")\n",
    "\n",
    "# tarefa 2\n",
    "media = arq['Number of Movies'].mean()\n",
    "print(f\"Média de número de filmes: {media}\")\n",
    "print(\"-----------------------------------------------\")\n",
    "\n",
    "# tarefa 3\n",
    "ID = arq['Average per Movie'].idxmax()\n",
    "print(f\"Ator com maior média por filme: {arq['Actor'].loc[ID]}\")\n",
    "print(\"-----------------------------------------------\")\n",
    "\n",
    "# tarefa 4\n",
    "frequencias = arq['#1 Movie'].value_counts()\n",
    "print(f\"O filme mais frequente é: {frequencias.idxmax()}\\nSua frequência é: {frequencias.max() / arq['#1 Movie'].size}\")"
   ]
  }
 ],
 "metadata": {
  "kernelspec": {
   "display_name": "Python 3 (ipykernel)",
   "language": "python",
   "name": "python3"
  },
  "language_info": {
   "codemirror_mode": {
    "name": "ipython",
    "version": 3
   },
   "file_extension": ".py",
   "mimetype": "text/x-python",
   "name": "python",
   "nbconvert_exporter": "python",
   "pygments_lexer": "ipython3",
   "version": "3.9.13"
  }
 },
 "nbformat": 4,
 "nbformat_minor": 5
}
