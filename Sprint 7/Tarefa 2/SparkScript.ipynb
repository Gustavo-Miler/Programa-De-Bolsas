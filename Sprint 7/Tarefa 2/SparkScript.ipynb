{
 "cells": [
  {
   "cell_type": "code",
   "execution_count": 8,
   "id": "ee75bad2",
   "metadata": {},
   "outputs": [
    {
     "name": "stdout",
     "output_type": "stream",
     "text": [
      "+----------+-----------+---------+-----+---+------+\n",
      "|first name|middle name|last name|   id|sex|salary|\n",
      "+----------+-----------+---------+-----+---+------+\n",
      "|     James|           |    Smith|36636|  M|  3000|\n",
      "|   Michael|       Rose|         |40288|  M|    -1|\n",
      "|    Robert|           | Williams|42114|  M|  4000|\n",
      "|     Maria|       Anne|    Jones|39192|  F|  4000|\n",
      "|       Jen|       Mary|    Brown| null|  F|  3000|\n",
      "+----------+-----------+---------+-----+---+------+\n",
      "\n"
     ]
    }
   ],
   "source": [
    "import os\n",
    "import sys\n",
    "\n",
    "os.environ[\"PYSPARK_PYTHON\"] = sys.executable\n",
    "\n",
    "import pyspark\n",
    "from pyspark.sql import SparkSession\n",
    "spark = SparkSession.builder.master(\"local[*]\").appName('SparkHelloWorld').getOrCreate()\n",
    "\n",
    "from pyspark.sql.types import StructType, StructField, StringType, IntegerType\n",
    "\n",
    "data = [\n",
    "    (\"James\", \"\", \"Smith\", \"36636\", \"M\", 3000),\n",
    "    (\"Michael\", \"Rose\", \"\", \"40288\", \"M\", -1),\n",
    "    (\"Robert\", \"\", \"Williams\", \"42114\", \"M\", 4000),\n",
    "    (\"Maria\", \"Anne\", \"Jones\", \"39192\", \"F\", 4000),\n",
    "    (\"Jen\", \"Mary\", \"Brown\", None, \"F\", 3000)\n",
    "\n",
    "]\n",
    "\n",
    "schema = StructType([\n",
    "    StructField(\"first name\", StringType(), True), \\\n",
    "    StructField(\"middle name\", StringType(), True), \\\n",
    "    StructField(\"last name\", StringType(), True), \\\n",
    "    StructField(\"id\", StringType(), True), \\\n",
    "    StructField(\"sex\", StringType(), True), \\\n",
    "    StructField(\"salary\", IntegerType(), True) \\\n",
    "])\n",
    "\n",
    "df = spark.createDataFrame(data=data, schema=schema)\n",
    "df.show()"
   ]
  },
  {
   "cell_type": "code",
   "execution_count": 10,
   "id": "873ec794",
   "metadata": {},
   "outputs": [
    {
     "name": "stdout",
     "output_type": "stream",
     "text": [
      "+----------+-----------+---------+-----+---+------+\n",
      "|first name|middle name|last name|   id|sex|salary|\n",
      "+----------+-----------+---------+-----+---+------+\n",
      "|     James|           |    Smith|36636|  M|  3000|\n",
      "|    Robert|           | Williams|42114|  M|  4000|\n",
      "|     Maria|       Anne|    Jones|39192|  F|  4000|\n",
      "+----------+-----------+---------+-----+---+------+\n",
      "\n"
     ]
    }
   ],
   "source": [
    "from pyspark.sql.functions import col\n",
    "\n",
    "df_filtered = df.where(\n",
    "    (col(\"id\").isNotNull()) & (col(\"salary\") > 0)\n",
    ")\n",
    "\n",
    "df_filtered.show()"
   ]
  },
  {
   "cell_type": "code",
   "execution_count": 13,
   "id": "1b39cb07",
   "metadata": {},
   "outputs": [
    {
     "name": "stdout",
     "output_type": "stream",
     "text": [
      "+----------+-----------+---------+-----+---+------+----------------+\n",
      "|first name|middle name|last name|   id|sex|salary|       full name|\n",
      "+----------+-----------+---------+-----+---+------+----------------+\n",
      "|     James|           |    Smith|36636|  M|  3000|    James  Smith|\n",
      "|    Robert|           | Williams|42114|  M|  4000|Robert  Williams|\n",
      "|     Maria|       Anne|    Jones|39192|  F|  4000|Maria Anne Jones|\n",
      "+----------+-----------+---------+-----+---+------+----------------+\n",
      "\n"
     ]
    }
   ],
   "source": [
    "from pyspark.sql.functions import concat, lit\n",
    "\n",
    "df_full_name = df_filtered.withColumn(\n",
    "    \"full name\",\n",
    "    concat(col(\"first name\"), lit(\" \"), col(\"middle name\"), lit(\" \"), col(\"last name\"))\n",
    ")\n",
    "\n",
    "df_full_name.show()"
   ]
  },
  {
   "cell_type": "code",
   "execution_count": 32,
   "id": "0a4a6aac",
   "metadata": {},
   "outputs": [
    {
     "name": "stdout",
     "output_type": "stream",
     "text": [
      "+----------+-----------+---------+-----+---+------+----------------+\n",
      "|first name|middle name|last name|   id|sex|salary|       full name|\n",
      "+----------+-----------+---------+-----+---+------+----------------+\n",
      "|     James|           |    Smith|36636|  M|  3000|     James Smith|\n",
      "|    Robert|           | Williams|42114|  M|  4000| Robert Williams|\n",
      "|     Maria|       Anne|    Jones|39192|  F|  4000|Maria Anne Jones|\n",
      "+----------+-----------+---------+-----+---+------+----------------+\n",
      "\n"
     ]
    }
   ],
   "source": [
    "df_filtered.createOrReplaceTempView(\"df\")\n",
    "\n",
    "df_full_name3 = spark.sql(\"\"\"\n",
    "    SELECT *,\n",
    "    CASE\n",
    "        WHEN `middle name` = '' THEN concat(`first name`, \" \", `last name`)\n",
    "        ELSE concat(`first name`, \" \", `middle name`, \" \", `last name`)\n",
    "    END AS `full name`\n",
    "    FROM df\n",
    "\"\"\")\n",
    "df_full_name3.show()"
   ]
  },
  {
   "cell_type": "code",
   "execution_count": 40,
   "id": "71780cc2",
   "metadata": {},
   "outputs": [
    {
     "ename": "SyntaxError",
     "evalue": "unmatched ']' (2026580970.py, line 1)",
     "output_type": "error",
     "traceback": [
      "\u001b[0;36m  Cell \u001b[0;32mIn[40], line 1\u001b[0;36m\u001b[0m\n\u001b[0;31m    print = hello world =]\u001b[0m\n\u001b[0m                         ^\u001b[0m\n\u001b[0;31mSyntaxError\u001b[0m\u001b[0;31m:\u001b[0m unmatched ']'\n"
     ]
    }
   ],
   "source": [
    "print = hello world =]"
   ]
  }
 ],
 "metadata": {
  "kernelspec": {
   "display_name": "Python 3 (ipykernel)",
   "language": "python",
   "name": "python3"
  },
  "language_info": {
   "codemirror_mode": {
    "name": "ipython",
    "version": 3
   },
   "file_extension": ".py",
   "mimetype": "text/x-python",
   "name": "python",
   "nbconvert_exporter": "python",
   "pygments_lexer": "ipython3",
   "version": "3.10.10"
  }
 },
 "nbformat": 4,
 "nbformat_minor": 5
}
